{
 "cells": [
  {
   "cell_type": "code",
   "execution_count": 4,
   "id": "297b4157-af4d-475b-ae47-4ee01366dc21",
   "metadata": {},
   "outputs": [
    {
     "data": {
      "text/html": [
       "<div>\n",
       "<style scoped>\n",
       "    .dataframe tbody tr th:only-of-type {\n",
       "        vertical-align: middle;\n",
       "    }\n",
       "\n",
       "    .dataframe tbody tr th {\n",
       "        vertical-align: top;\n",
       "    }\n",
       "\n",
       "    .dataframe thead th {\n",
       "        text-align: right;\n",
       "    }\n",
       "</style>\n",
       "<table border=\"1\" class=\"dataframe\">\n",
       "  <thead>\n",
       "    <tr style=\"text-align: right;\">\n",
       "      <th></th>\n",
       "      <th>id</th>\n",
       "      <th>listing_url</th>\n",
       "      <th>scrape_id</th>\n",
       "      <th>last_scraped</th>\n",
       "      <th>name</th>\n",
       "      <th>summary</th>\n",
       "      <th>space</th>\n",
       "      <th>description</th>\n",
       "      <th>experiences_offered</th>\n",
       "      <th>neighborhood_overview</th>\n",
       "      <th>...</th>\n",
       "      <th>review_scores_value</th>\n",
       "      <th>requires_license</th>\n",
       "      <th>license</th>\n",
       "      <th>jurisdiction_names</th>\n",
       "      <th>instant_bookable</th>\n",
       "      <th>cancellation_policy</th>\n",
       "      <th>require_guest_profile_picture</th>\n",
       "      <th>require_guest_phone_verification</th>\n",
       "      <th>calculated_host_listings_count</th>\n",
       "      <th>reviews_per_month</th>\n",
       "    </tr>\n",
       "  </thead>\n",
       "  <tbody>\n",
       "    <tr>\n",
       "      <th>0</th>\n",
       "      <td>241032</td>\n",
       "      <td>https://www.airbnb.com/rooms/241032</td>\n",
       "      <td>20160104002432</td>\n",
       "      <td>2016-01-04</td>\n",
       "      <td>Stylish Queen Anne Apartment</td>\n",
       "      <td>NaN</td>\n",
       "      <td>Make your self at home in this charming one-be...</td>\n",
       "      <td>Make your self at home in this charming one-be...</td>\n",
       "      <td>none</td>\n",
       "      <td>NaN</td>\n",
       "      <td>...</td>\n",
       "      <td>10.0</td>\n",
       "      <td>f</td>\n",
       "      <td>NaN</td>\n",
       "      <td>WASHINGTON</td>\n",
       "      <td>f</td>\n",
       "      <td>moderate</td>\n",
       "      <td>f</td>\n",
       "      <td>f</td>\n",
       "      <td>2</td>\n",
       "      <td>4.07</td>\n",
       "    </tr>\n",
       "    <tr>\n",
       "      <th>1</th>\n",
       "      <td>953595</td>\n",
       "      <td>https://www.airbnb.com/rooms/953595</td>\n",
       "      <td>20160104002432</td>\n",
       "      <td>2016-01-04</td>\n",
       "      <td>Bright &amp; Airy Queen Anne Apartment</td>\n",
       "      <td>Chemically sensitive? We've removed the irrita...</td>\n",
       "      <td>Beautiful, hypoallergenic apartment in an extr...</td>\n",
       "      <td>Chemically sensitive? We've removed the irrita...</td>\n",
       "      <td>none</td>\n",
       "      <td>Queen Anne is a wonderful, truly functional vi...</td>\n",
       "      <td>...</td>\n",
       "      <td>10.0</td>\n",
       "      <td>f</td>\n",
       "      <td>NaN</td>\n",
       "      <td>WASHINGTON</td>\n",
       "      <td>f</td>\n",
       "      <td>strict</td>\n",
       "      <td>t</td>\n",
       "      <td>t</td>\n",
       "      <td>6</td>\n",
       "      <td>1.48</td>\n",
       "    </tr>\n",
       "    <tr>\n",
       "      <th>2</th>\n",
       "      <td>3308979</td>\n",
       "      <td>https://www.airbnb.com/rooms/3308979</td>\n",
       "      <td>20160104002432</td>\n",
       "      <td>2016-01-04</td>\n",
       "      <td>New Modern House-Amazing water view</td>\n",
       "      <td>New modern house built in 2013.  Spectacular s...</td>\n",
       "      <td>Our house is modern, light and fresh with a wa...</td>\n",
       "      <td>New modern house built in 2013.  Spectacular s...</td>\n",
       "      <td>none</td>\n",
       "      <td>Upper Queen Anne is a charming neighborhood fu...</td>\n",
       "      <td>...</td>\n",
       "      <td>10.0</td>\n",
       "      <td>f</td>\n",
       "      <td>NaN</td>\n",
       "      <td>WASHINGTON</td>\n",
       "      <td>f</td>\n",
       "      <td>strict</td>\n",
       "      <td>f</td>\n",
       "      <td>f</td>\n",
       "      <td>2</td>\n",
       "      <td>1.15</td>\n",
       "    </tr>\n",
       "    <tr>\n",
       "      <th>3</th>\n",
       "      <td>7421966</td>\n",
       "      <td>https://www.airbnb.com/rooms/7421966</td>\n",
       "      <td>20160104002432</td>\n",
       "      <td>2016-01-04</td>\n",
       "      <td>Queen Anne Chateau</td>\n",
       "      <td>A charming apartment that sits atop Queen Anne...</td>\n",
       "      <td>NaN</td>\n",
       "      <td>A charming apartment that sits atop Queen Anne...</td>\n",
       "      <td>none</td>\n",
       "      <td>NaN</td>\n",
       "      <td>...</td>\n",
       "      <td>NaN</td>\n",
       "      <td>f</td>\n",
       "      <td>NaN</td>\n",
       "      <td>WASHINGTON</td>\n",
       "      <td>f</td>\n",
       "      <td>flexible</td>\n",
       "      <td>f</td>\n",
       "      <td>f</td>\n",
       "      <td>1</td>\n",
       "      <td>NaN</td>\n",
       "    </tr>\n",
       "    <tr>\n",
       "      <th>4</th>\n",
       "      <td>278830</td>\n",
       "      <td>https://www.airbnb.com/rooms/278830</td>\n",
       "      <td>20160104002432</td>\n",
       "      <td>2016-01-04</td>\n",
       "      <td>Charming craftsman 3 bdm house</td>\n",
       "      <td>Cozy family craftman house in beautiful neighb...</td>\n",
       "      <td>Cozy family craftman house in beautiful neighb...</td>\n",
       "      <td>Cozy family craftman house in beautiful neighb...</td>\n",
       "      <td>none</td>\n",
       "      <td>We are in the beautiful neighborhood of Queen ...</td>\n",
       "      <td>...</td>\n",
       "      <td>9.0</td>\n",
       "      <td>f</td>\n",
       "      <td>NaN</td>\n",
       "      <td>WASHINGTON</td>\n",
       "      <td>f</td>\n",
       "      <td>strict</td>\n",
       "      <td>f</td>\n",
       "      <td>f</td>\n",
       "      <td>1</td>\n",
       "      <td>0.89</td>\n",
       "    </tr>\n",
       "  </tbody>\n",
       "</table>\n",
       "<p>5 rows × 92 columns</p>\n",
       "</div>"
      ],
      "text/plain": [
       "        id                           listing_url       scrape_id last_scraped  \\\n",
       "0   241032   https://www.airbnb.com/rooms/241032  20160104002432   2016-01-04   \n",
       "1   953595   https://www.airbnb.com/rooms/953595  20160104002432   2016-01-04   \n",
       "2  3308979  https://www.airbnb.com/rooms/3308979  20160104002432   2016-01-04   \n",
       "3  7421966  https://www.airbnb.com/rooms/7421966  20160104002432   2016-01-04   \n",
       "4   278830   https://www.airbnb.com/rooms/278830  20160104002432   2016-01-04   \n",
       "\n",
       "                                  name  \\\n",
       "0         Stylish Queen Anne Apartment   \n",
       "1   Bright & Airy Queen Anne Apartment   \n",
       "2  New Modern House-Amazing water view   \n",
       "3                   Queen Anne Chateau   \n",
       "4       Charming craftsman 3 bdm house   \n",
       "\n",
       "                                             summary  \\\n",
       "0                                                NaN   \n",
       "1  Chemically sensitive? We've removed the irrita...   \n",
       "2  New modern house built in 2013.  Spectacular s...   \n",
       "3  A charming apartment that sits atop Queen Anne...   \n",
       "4  Cozy family craftman house in beautiful neighb...   \n",
       "\n",
       "                                               space  \\\n",
       "0  Make your self at home in this charming one-be...   \n",
       "1  Beautiful, hypoallergenic apartment in an extr...   \n",
       "2  Our house is modern, light and fresh with a wa...   \n",
       "3                                                NaN   \n",
       "4  Cozy family craftman house in beautiful neighb...   \n",
       "\n",
       "                                         description experiences_offered  \\\n",
       "0  Make your self at home in this charming one-be...                none   \n",
       "1  Chemically sensitive? We've removed the irrita...                none   \n",
       "2  New modern house built in 2013.  Spectacular s...                none   \n",
       "3  A charming apartment that sits atop Queen Anne...                none   \n",
       "4  Cozy family craftman house in beautiful neighb...                none   \n",
       "\n",
       "                               neighborhood_overview  ... review_scores_value  \\\n",
       "0                                                NaN  ...                10.0   \n",
       "1  Queen Anne is a wonderful, truly functional vi...  ...                10.0   \n",
       "2  Upper Queen Anne is a charming neighborhood fu...  ...                10.0   \n",
       "3                                                NaN  ...                 NaN   \n",
       "4  We are in the beautiful neighborhood of Queen ...  ...                 9.0   \n",
       "\n",
       "  requires_license license jurisdiction_names instant_bookable  \\\n",
       "0                f     NaN         WASHINGTON                f   \n",
       "1                f     NaN         WASHINGTON                f   \n",
       "2                f     NaN         WASHINGTON                f   \n",
       "3                f     NaN         WASHINGTON                f   \n",
       "4                f     NaN         WASHINGTON                f   \n",
       "\n",
       "  cancellation_policy  require_guest_profile_picture  \\\n",
       "0            moderate                              f   \n",
       "1              strict                              t   \n",
       "2              strict                              f   \n",
       "3            flexible                              f   \n",
       "4              strict                              f   \n",
       "\n",
       "  require_guest_phone_verification calculated_host_listings_count  \\\n",
       "0                                f                              2   \n",
       "1                                t                              6   \n",
       "2                                f                              2   \n",
       "3                                f                              1   \n",
       "4                                f                              1   \n",
       "\n",
       "  reviews_per_month  \n",
       "0              4.07  \n",
       "1              1.48  \n",
       "2              1.15  \n",
       "3               NaN  \n",
       "4              0.89  \n",
       "\n",
       "[5 rows x 92 columns]"
      ]
     },
     "execution_count": 4,
     "metadata": {},
     "output_type": "execute_result"
    }
   ],
   "source": [
    "import pandas as pd \n",
    "\n",
    "df = pd.read_csv(\"C:/data science/Flats/listings.csv\")\n",
    "df.head()"
   ]
  },
  {
   "cell_type": "code",
   "execution_count": 5,
   "id": "b03a164d-e063-44a0-ab03-bc9821bd85a3",
   "metadata": {},
   "outputs": [
    {
     "data": {
      "text/plain": [
       "(3818, 92)"
      ]
     },
     "execution_count": 5,
     "metadata": {},
     "output_type": "execute_result"
    }
   ],
   "source": [
    "# number of rows and columns\n",
    "df.shape"
   ]
  },
  {
   "cell_type": "code",
   "execution_count": 6,
   "id": "a2a0c5d1-fb3c-47d7-8cf5-c32e1feb1cc0",
   "metadata": {},
   "outputs": [
    {
     "data": {
      "text/plain": [
       "Index(['id', 'listing_url', 'scrape_id', 'last_scraped', 'name', 'summary',\n",
       "       'space', 'description', 'experiences_offered', 'neighborhood_overview',\n",
       "       'notes', 'transit', 'thumbnail_url', 'medium_url', 'picture_url',\n",
       "       'xl_picture_url', 'host_id', 'host_url', 'host_name', 'host_since',\n",
       "       'host_location', 'host_about', 'host_response_time',\n",
       "       'host_response_rate', 'host_acceptance_rate', 'host_is_superhost',\n",
       "       'host_thumbnail_url', 'host_picture_url', 'host_neighbourhood',\n",
       "       'host_listings_count', 'host_total_listings_count',\n",
       "       'host_verifications', 'host_has_profile_pic', 'host_identity_verified',\n",
       "       'street', 'neighbourhood', 'neighbourhood_cleansed',\n",
       "       'neighbourhood_group_cleansed', 'city', 'state', 'zipcode', 'market',\n",
       "       'smart_location', 'country_code', 'country', 'latitude', 'longitude',\n",
       "       'is_location_exact', 'property_type', 'room_type', 'accommodates',\n",
       "       'bathrooms', 'bedrooms', 'beds', 'bed_type', 'amenities', 'square_feet',\n",
       "       'price', 'weekly_price', 'monthly_price', 'security_deposit',\n",
       "       'cleaning_fee', 'guests_included', 'extra_people', 'minimum_nights',\n",
       "       'maximum_nights', 'calendar_updated', 'has_availability',\n",
       "       'availability_30', 'availability_60', 'availability_90',\n",
       "       'availability_365', 'calendar_last_scraped', 'number_of_reviews',\n",
       "       'first_review', 'last_review', 'review_scores_rating',\n",
       "       'review_scores_accuracy', 'review_scores_cleanliness',\n",
       "       'review_scores_checkin', 'review_scores_communication',\n",
       "       'review_scores_location', 'review_scores_value', 'requires_license',\n",
       "       'license', 'jurisdiction_names', 'instant_bookable',\n",
       "       'cancellation_policy', 'require_guest_profile_picture',\n",
       "       'require_guest_phone_verification', 'calculated_host_listings_count',\n",
       "       'reviews_per_month'],\n",
       "      dtype='object')"
      ]
     },
     "execution_count": 6,
     "metadata": {},
     "output_type": "execute_result"
    }
   ],
   "source": [
    "# get all columns from dataset\n",
    "df.columns "
   ]
  },
  {
   "cell_type": "code",
   "execution_count": 7,
   "id": "a7fe81b3-1f2f-43e8-835b-7a2ca1f6901c",
   "metadata": {},
   "outputs": [],
   "source": [
    "# drop these columns\n",
    "data = df.drop(['summary', 'experiences_offered', 'space', 'description', 'neighborhood_overview',\n",
    "       'notes', 'transit', 'thumbnail_url', 'medium_url', 'picture_url',\n",
    "       'xl_picture_url', 'host_url', 'host_about', 'host_thumbnail_url', 'host_picture_url', 'neighbourhood_cleansed',\n",
    "       'neighbourhood_group_cleansed', 'host_has_profile_pic','license'], axis=1)"
   ]
  },
  {
   "cell_type": "code",
   "execution_count": 8,
   "id": "0ee34894-dc62-4726-a36d-4c6a3d77efc8",
   "metadata": {},
   "outputs": [
    {
     "data": {
      "text/plain": [
       "Index(['id', 'listing_url', 'scrape_id', 'last_scraped', 'name', 'host_id',\n",
       "       'host_name', 'host_since', 'host_location', 'host_response_time',\n",
       "       'host_response_rate', 'host_acceptance_rate', 'host_is_superhost',\n",
       "       'host_neighbourhood', 'host_listings_count',\n",
       "       'host_total_listings_count', 'host_verifications',\n",
       "       'host_identity_verified', 'street', 'neighbourhood', 'city', 'state',\n",
       "       'zipcode', 'market', 'smart_location', 'country_code', 'country',\n",
       "       'latitude', 'longitude', 'is_location_exact', 'property_type',\n",
       "       'room_type', 'accommodates', 'bathrooms', 'bedrooms', 'beds',\n",
       "       'bed_type', 'amenities', 'square_feet', 'price', 'weekly_price',\n",
       "       'monthly_price', 'security_deposit', 'cleaning_fee', 'guests_included',\n",
       "       'extra_people', 'minimum_nights', 'maximum_nights', 'calendar_updated',\n",
       "       'has_availability', 'availability_30', 'availability_60',\n",
       "       'availability_90', 'availability_365', 'calendar_last_scraped',\n",
       "       'number_of_reviews', 'first_review', 'last_review',\n",
       "       'review_scores_rating', 'review_scores_accuracy',\n",
       "       'review_scores_cleanliness', 'review_scores_checkin',\n",
       "       'review_scores_communication', 'review_scores_location',\n",
       "       'review_scores_value', 'requires_license', 'jurisdiction_names',\n",
       "       'instant_bookable', 'cancellation_policy',\n",
       "       'require_guest_profile_picture', 'require_guest_phone_verification',\n",
       "       'calculated_host_listings_count', 'reviews_per_month'],\n",
       "      dtype='object')"
      ]
     },
     "execution_count": 8,
     "metadata": {},
     "output_type": "execute_result"
    }
   ],
   "source": [
    "data.columns"
   ]
  },
  {
   "cell_type": "code",
   "execution_count": 9,
   "id": "c88d2be3-1c61-43ae-89d6-55deda9375c5",
   "metadata": {},
   "outputs": [
    {
     "name": "stdout",
     "output_type": "stream",
     "text": [
      "id:  0\n",
      "listing_url:  0\n",
      "scrape_id:  0\n",
      "last_scraped:  0\n",
      "name:  0\n",
      "host_id:  0\n",
      "host_name:  2\n",
      "host_since:  2\n",
      "host_location:  8\n",
      "host_response_time:  523\n",
      "host_response_rate:  523\n",
      "host_acceptance_rate:  773\n",
      "host_is_superhost:  2\n",
      "host_neighbourhood:  300\n",
      "host_listings_count:  2\n",
      "host_total_listings_count:  2\n",
      "host_verifications:  2\n",
      "host_identity_verified:  2\n",
      "street:  0\n",
      "neighbourhood:  416\n",
      "city:  0\n",
      "state:  0\n",
      "zipcode:  7\n",
      "market:  0\n",
      "smart_location:  0\n",
      "country_code:  0\n",
      "country:  0\n",
      "latitude:  0\n",
      "longitude:  0\n",
      "is_location_exact:  0\n",
      "property_type:  1\n",
      "room_type:  0\n",
      "accommodates:  0\n",
      "bathrooms:  16\n",
      "bedrooms:  6\n",
      "beds:  1\n",
      "bed_type:  0\n",
      "amenities:  0\n",
      "square_feet:  3721\n",
      "price:  0\n",
      "weekly_price:  1809\n",
      "monthly_price:  2301\n",
      "security_deposit:  1952\n",
      "cleaning_fee:  1030\n",
      "guests_included:  0\n",
      "extra_people:  0\n",
      "minimum_nights:  0\n",
      "maximum_nights:  0\n",
      "calendar_updated:  0\n",
      "has_availability:  0\n",
      "availability_30:  0\n",
      "availability_60:  0\n",
      "availability_90:  0\n",
      "availability_365:  0\n",
      "calendar_last_scraped:  0\n",
      "number_of_reviews:  0\n",
      "first_review:  627\n",
      "last_review:  627\n",
      "review_scores_rating:  647\n",
      "review_scores_accuracy:  658\n",
      "review_scores_cleanliness:  653\n",
      "review_scores_checkin:  658\n",
      "review_scores_communication:  651\n",
      "review_scores_location:  655\n",
      "review_scores_value:  656\n",
      "requires_license:  0\n",
      "jurisdiction_names:  0\n",
      "instant_bookable:  0\n",
      "cancellation_policy:  0\n",
      "require_guest_profile_picture:  0\n",
      "require_guest_phone_verification:  0\n",
      "calculated_host_listings_count:  0\n",
      "reviews_per_month:  627\n"
     ]
    }
   ],
   "source": [
    "# finding null values in each column \n",
    "for column in data.columns:\n",
    "    null_count = data[column].isnull().sum()\n",
    "    print(f\"{column}:  {null_count}\")"
   ]
  },
  {
   "cell_type": "code",
   "execution_count": 10,
   "id": "ef4122b4-bb73-4f1b-b8d4-10f29a3c762f",
   "metadata": {},
   "outputs": [
    {
     "name": "stdout",
     "output_type": "stream",
     "text": [
      "<class 'pandas.core.frame.DataFrame'>\n",
      "RangeIndex: 3818 entries, 0 to 3817\n",
      "Data columns (total 73 columns):\n",
      " #   Column                            Non-Null Count  Dtype  \n",
      "---  ------                            --------------  -----  \n",
      " 0   id                                3818 non-null   int64  \n",
      " 1   listing_url                       3818 non-null   object \n",
      " 2   scrape_id                         3818 non-null   int64  \n",
      " 3   last_scraped                      3818 non-null   object \n",
      " 4   name                              3818 non-null   object \n",
      " 5   host_id                           3818 non-null   int64  \n",
      " 6   host_name                         3816 non-null   object \n",
      " 7   host_since                        3816 non-null   object \n",
      " 8   host_location                     3810 non-null   object \n",
      " 9   host_response_time                3295 non-null   object \n",
      " 10  host_response_rate                3295 non-null   object \n",
      " 11  host_acceptance_rate              3045 non-null   object \n",
      " 12  host_is_superhost                 3816 non-null   object \n",
      " 13  host_neighbourhood                3518 non-null   object \n",
      " 14  host_listings_count               3816 non-null   float64\n",
      " 15  host_total_listings_count         3816 non-null   float64\n",
      " 16  host_verifications                3816 non-null   object \n",
      " 17  host_identity_verified            3816 non-null   object \n",
      " 18  street                            3818 non-null   object \n",
      " 19  neighbourhood                     3402 non-null   object \n",
      " 20  city                              3818 non-null   object \n",
      " 21  state                             3818 non-null   object \n",
      " 22  zipcode                           3811 non-null   object \n",
      " 23  market                            3818 non-null   object \n",
      " 24  smart_location                    3818 non-null   object \n",
      " 25  country_code                      3818 non-null   object \n",
      " 26  country                           3818 non-null   object \n",
      " 27  latitude                          3818 non-null   float64\n",
      " 28  longitude                         3818 non-null   float64\n",
      " 29  is_location_exact                 3818 non-null   object \n",
      " 30  property_type                     3817 non-null   object \n",
      " 31  room_type                         3818 non-null   object \n",
      " 32  accommodates                      3818 non-null   int64  \n",
      " 33  bathrooms                         3802 non-null   float64\n",
      " 34  bedrooms                          3812 non-null   float64\n",
      " 35  beds                              3817 non-null   float64\n",
      " 36  bed_type                          3818 non-null   object \n",
      " 37  amenities                         3818 non-null   object \n",
      " 38  square_feet                       97 non-null     float64\n",
      " 39  price                             3818 non-null   object \n",
      " 40  weekly_price                      2009 non-null   object \n",
      " 41  monthly_price                     1517 non-null   object \n",
      " 42  security_deposit                  1866 non-null   object \n",
      " 43  cleaning_fee                      2788 non-null   object \n",
      " 44  guests_included                   3818 non-null   int64  \n",
      " 45  extra_people                      3818 non-null   object \n",
      " 46  minimum_nights                    3818 non-null   int64  \n",
      " 47  maximum_nights                    3818 non-null   int64  \n",
      " 48  calendar_updated                  3818 non-null   object \n",
      " 49  has_availability                  3818 non-null   object \n",
      " 50  availability_30                   3818 non-null   int64  \n",
      " 51  availability_60                   3818 non-null   int64  \n",
      " 52  availability_90                   3818 non-null   int64  \n",
      " 53  availability_365                  3818 non-null   int64  \n",
      " 54  calendar_last_scraped             3818 non-null   object \n",
      " 55  number_of_reviews                 3818 non-null   int64  \n",
      " 56  first_review                      3191 non-null   object \n",
      " 57  last_review                       3191 non-null   object \n",
      " 58  review_scores_rating              3171 non-null   float64\n",
      " 59  review_scores_accuracy            3160 non-null   float64\n",
      " 60  review_scores_cleanliness         3165 non-null   float64\n",
      " 61  review_scores_checkin             3160 non-null   float64\n",
      " 62  review_scores_communication       3167 non-null   float64\n",
      " 63  review_scores_location            3163 non-null   float64\n",
      " 64  review_scores_value               3162 non-null   float64\n",
      " 65  requires_license                  3818 non-null   object \n",
      " 66  jurisdiction_names                3818 non-null   object \n",
      " 67  instant_bookable                  3818 non-null   object \n",
      " 68  cancellation_policy               3818 non-null   object \n",
      " 69  require_guest_profile_picture     3818 non-null   object \n",
      " 70  require_guest_phone_verification  3818 non-null   object \n",
      " 71  calculated_host_listings_count    3818 non-null   int64  \n",
      " 72  reviews_per_month                 3191 non-null   float64\n",
      "dtypes: float64(16), int64(13), object(44)\n",
      "memory usage: 2.1+ MB\n"
     ]
    }
   ],
   "source": [
    "# data type of each column\n",
    "data.info()"
   ]
  },
  {
   "cell_type": "code",
   "execution_count": 11,
   "id": "c76f3b51-8d6b-4e0c-9520-6975830b2425",
   "metadata": {},
   "outputs": [],
   "source": [
    "# replace null \n",
    "columns_to_replace = ['host_listings_count', 'host_total_listings_count', 'zipcode', 'bathrooms', 'bedrooms', 'beds', 'weekly_price', 'monthly_price', \n",
    "                      'security_deposit', 'cleaning_fee', 'review_scores_rating', 'review_scores_accuracy', \n",
    "                      'review_scores_cleanliness', 'review_scores_checkin', 'review_scores_communication', 'review_scores_location', \n",
    "                      'review_scores_value']\n",
    "data[columns_to_replace] = data[columns_to_replace].fillna(0)"
   ]
  },
  {
   "cell_type": "code",
   "execution_count": 12,
   "id": "d990904f-a798-466a-af2c-6d15de411939",
   "metadata": {},
   "outputs": [],
   "source": [
    "# changing data type to boolean\n",
    "columns_to_convert = ['host_is_superhost', 'host_identity_verified', 'has_availability', 'requires_license', 'instant_bookable', \n",
    "                      'require_guest_profile_picture', 'is_location_exact', 'require_guest_phone_verification']\n",
    "data[columns_to_convert] = data[columns_to_convert].astype(bool)"
   ]
  },
  {
   "cell_type": "code",
   "execution_count": 13,
   "id": "3f12ef8d-79ee-46d8-9b98-19012ab2706f",
   "metadata": {},
   "outputs": [],
   "source": [
    "# filling null values to unknown\n",
    "columns_to_fill = ['host_response_time', 'host_neighbourhood', 'neighbourhood', 'property_type', 'host_location']\n",
    "data[columns_to_fill] = data[columns_to_fill].fillna('Unknown')"
   ]
  },
  {
   "cell_type": "code",
   "execution_count": 14,
   "id": "92bb237e-2b85-43f8-9eb9-b8ec61debb52",
   "metadata": {},
   "outputs": [
    {
     "data": {
      "text/plain": [
       "0       4.070000\n",
       "1       1.480000\n",
       "2       1.150000\n",
       "3       2.078919\n",
       "4       0.890000\n",
       "          ...   \n",
       "3813    0.300000\n",
       "3814    2.000000\n",
       "3815    2.078919\n",
       "3816    2.078919\n",
       "3817    2.078919\n",
       "Name: reviews_per_month, Length: 3818, dtype: float64"
      ]
     },
     "execution_count": 14,
     "metadata": {},
     "output_type": "execute_result"
    }
   ],
   "source": [
    "# filling null values with mean value\n",
    "data['reviews_per_month'].fillna(data['reviews_per_month'].mean())"
   ]
  },
  {
   "cell_type": "code",
   "execution_count": 15,
   "id": "c673724c-5e48-4b2f-87b9-b5669a03edf3",
   "metadata": {},
   "outputs": [],
   "source": [
    "# removing % and changing data type to numeric(int)\n",
    "data['host_response_rate'] = data['host_response_rate'].str.rstrip('%') \n",
    "data['host_response_rate'] = pd.to_numeric(data['host_response_rate']) "
   ]
  },
  {
   "cell_type": "code",
   "execution_count": 16,
   "id": "d236d567-089a-4e50-a071-6712a8047c93",
   "metadata": {},
   "outputs": [],
   "source": [
    "# removing $ and changint data type to numeric(int)\n",
    "data['host_acceptance_rate'] = data['host_acceptance_rate'].str.rstrip('%')\n",
    "data['host_acceptance_rate'] = pd.to_numeric(data['host_acceptance_rate'])"
   ]
  },
  {
   "cell_type": "code",
   "execution_count": 17,
   "id": "613b15a3-9ca6-4ffe-aea0-4b23b45c1e4b",
   "metadata": {},
   "outputs": [
    {
     "data": {
      "text/plain": [
       "array([ 96.,  98.,  67.,  nan, 100.,  71.,  97.,  60.,  50.,  31.,  90.,\n",
       "        70.,  88.,  80.,  63.,  33.,  99.,  75.,  83.,  94.,  58.,  43.,\n",
       "        93.,  92.,  40.,  57.,  89.,  95.,  78.,  81.,  91.,  38.,  86.,\n",
       "        30.,  56.,  76.,  64.,  82.,  17.,  87.,  25.,  69.,  53.,  65.,\n",
       "        68.,  55.])"
      ]
     },
     "execution_count": 17,
     "metadata": {},
     "output_type": "execute_result"
    }
   ],
   "source": [
    "# unique values in column \n",
    "data[\"host_response_rate\"].unique()"
   ]
  },
  {
   "cell_type": "code",
   "execution_count": 18,
   "id": "dd9e7445-69df-4009-8875-9c87ea3dfa68",
   "metadata": {},
   "outputs": [
    {
     "data": {
      "text/plain": [
       "array(['Seattle', 'Ballard, Seattle', 'West Seattle', 'Seattle ', '西雅图',\n",
       "       'Phinney Ridge Seattle', 'seattle'], dtype=object)"
      ]
     },
     "execution_count": 18,
     "metadata": {},
     "output_type": "execute_result"
    }
   ],
   "source": [
    "data[\"city\"].unique()"
   ]
  },
  {
   "cell_type": "code",
   "execution_count": 19,
   "id": "049bfd68-375b-47aa-90a7-69e63e9f8b9e",
   "metadata": {},
   "outputs": [
    {
     "data": {
      "text/plain": [
       "0       100.000000\n",
       "1       100.000000\n",
       "2       100.000000\n",
       "3        99.967159\n",
       "4        99.967159\n",
       "           ...    \n",
       "3813    100.000000\n",
       "3814    100.000000\n",
       "3815     99.967159\n",
       "3816     99.967159\n",
       "3817     99.967159\n",
       "Name: host_acceptance_rate, Length: 3818, dtype: float64"
      ]
     },
     "execution_count": 19,
     "metadata": {},
     "output_type": "execute_result"
    }
   ],
   "source": [
    "# filling null values with mean value\n",
    "data['host_response_rate'].fillna(data['host_response_rate'].mean())\n",
    "data['host_acceptance_rate'].fillna(data['host_acceptance_rate'].mean())"
   ]
  },
  {
   "cell_type": "code",
   "execution_count": 20,
   "id": "d08dbbb3-066a-4c95-8616-d33b86208b0c",
   "metadata": {},
   "outputs": [
    {
     "data": {
      "text/plain": [
       "(3816, 73)"
      ]
     },
     "execution_count": 20,
     "metadata": {},
     "output_type": "execute_result"
    }
   ],
   "source": [
    "# dropping rows where column_name is null\n",
    "Data = data.dropna(subset=['host_name'])\n",
    "Data.shape"
   ]
  },
  {
   "cell_type": "code",
   "execution_count": 21,
   "id": "b2e02939-3004-4dc4-a619-5a0da8d62b70",
   "metadata": {},
   "outputs": [
    {
     "data": {
      "text/plain": [
       "(3816, 73)"
      ]
     },
     "execution_count": 21,
     "metadata": {},
     "output_type": "execute_result"
    }
   ],
   "source": [
    "Data.dropna(subset=['host_since'])\n",
    "Data.shape"
   ]
  },
  {
   "cell_type": "code",
   "execution_count": 22,
   "id": "5784dbd9-34c4-43d0-98a1-58962091fa39",
   "metadata": {},
   "outputs": [
    {
     "data": {
      "text/plain": [
       "np.int64(0)"
      ]
     },
     "execution_count": 22,
     "metadata": {},
     "output_type": "execute_result"
    }
   ],
   "source": [
    "# duplicate values in dataset\n",
    "Data.duplicated().sum()"
   ]
  },
  {
   "cell_type": "code",
   "execution_count": 23,
   "id": "21a1cb34-ad76-4835-9ed2-ea4c93027606",
   "metadata": {},
   "outputs": [],
   "source": [
    "Data = Data.sort_values(by='first_review')\n",
    "Data['first_review'] = Data['first_review'].bfill()\n",
    "Data = Data.reset_index(drop=True)"
   ]
  },
  {
   "cell_type": "code",
   "execution_count": 24,
   "id": "b9053cf5-5cc4-47fe-83b0-446a8fed6b25",
   "metadata": {},
   "outputs": [],
   "source": [
    "Data = Data.sort_values(by='last_review')\n",
    "Data['last_review'] = Data['last_review'].bfill()\n",
    "Data = Data.reset_index(drop=True)"
   ]
  },
  {
   "cell_type": "code",
   "execution_count": 25,
   "id": "991ddd74-b1ee-4bf8-89bd-ec56cff060e1",
   "metadata": {},
   "outputs": [],
   "source": [
    "Data['first_review'] = pd.to_datetime(Data['first_review'])\n",
    "Data['last_review'] = pd.to_datetime(Data['last_review'])"
   ]
  },
  {
   "cell_type": "code",
   "execution_count": 26,
   "id": "c5276be4-f881-425c-b0f9-ef045df0d527",
   "metadata": {},
   "outputs": [],
   "source": [
    "Data = Data.sort_values(by='host_since')\n",
    "Data['host_since'] = Data['host_since'].ffill()\n",
    "Data = Data.reset_index(drop=True)\n",
    "Data['host_since'] = pd.to_datetime(Data['host_since'])"
   ]
  },
  {
   "cell_type": "code",
   "execution_count": 27,
   "id": "26c970b5-3bd7-44f4-bbac-4cb5e73d7db9",
   "metadata": {},
   "outputs": [
    {
     "data": {
      "text/plain": [
       "<DatetimeArray>\n",
       "['2015-08-16 00:00:00', '2015-06-08 00:00:00',                 'NaT',\n",
       " '2013-09-30 00:00:00', '2015-07-27 00:00:00', '2015-07-07 00:00:00',\n",
       " '2010-03-21 00:00:00', '2015-03-22 00:00:00', '2009-07-17 00:00:00',\n",
       " '2010-01-31 00:00:00',\n",
       " ...\n",
       " '2015-05-05 00:00:00', '2015-12-27 00:00:00', '2015-08-27 00:00:00',\n",
       " '2015-06-06 00:00:00', '2015-11-03 00:00:00', '2015-12-19 00:00:00',\n",
       " '2015-11-11 00:00:00', '2015-10-09 00:00:00', '2015-12-18 00:00:00',\n",
       " '2015-11-18 00:00:00']\n",
       "Length: 985, dtype: datetime64[ns]"
      ]
     },
     "execution_count": 27,
     "metadata": {},
     "output_type": "execute_result"
    }
   ],
   "source": [
    "Data['first_review'].unique()"
   ]
  },
  {
   "cell_type": "code",
   "execution_count": 28,
   "id": "57d906f5-10ba-45e4-b3da-a09f72fca3cf",
   "metadata": {},
   "outputs": [
    {
     "data": {
      "text/plain": [
       "<DatetimeArray>\n",
       "['2015-12-02 00:00:00', '2015-09-30 00:00:00', '2015-09-28 00:00:00',\n",
       "                 'NaT', '2015-12-01 00:00:00', '2015-08-11 00:00:00',\n",
       " '2016-01-03 00:00:00', '2015-12-14 00:00:00', '2015-12-09 00:00:00',\n",
       " '2015-12-28 00:00:00',\n",
       " ...\n",
       " '2015-02-11 00:00:00', '2015-06-29 00:00:00', '2015-04-23 00:00:00',\n",
       " '2015-04-29 00:00:00', '2015-05-27 00:00:00', '2015-06-25 00:00:00',\n",
       " '2015-07-09 00:00:00', '2015-09-04 00:00:00', '2015-07-11 00:00:00',\n",
       " '2015-11-26 00:00:00']\n",
       "Length: 322, dtype: datetime64[ns]"
      ]
     },
     "execution_count": 28,
     "metadata": {},
     "output_type": "execute_result"
    }
   ],
   "source": [
    "Data['last_review'].unique()"
   ]
  },
  {
   "cell_type": "code",
   "execution_count": 29,
   "id": "07681328-bd57-4212-9c73-d0c23b2e9893",
   "metadata": {},
   "outputs": [
    {
     "data": {
      "text/plain": [
       "<DatetimeArray>\n",
       "['2008-11-10 00:00:00', '2009-01-08 00:00:00', '2009-02-16 00:00:00',\n",
       " '2009-03-03 00:00:00', '2009-03-30 00:00:00', '2009-04-26 00:00:00',\n",
       " '2009-05-30 00:00:00', '2009-06-09 00:00:00', '2009-08-09 00:00:00',\n",
       " '2009-08-10 00:00:00',\n",
       " ...\n",
       " '2015-12-20 00:00:00', '2015-12-21 00:00:00', '2015-12-22 00:00:00',\n",
       " '2015-12-27 00:00:00', '2015-12-28 00:00:00', '2015-12-29 00:00:00',\n",
       " '2015-12-30 00:00:00', '2016-01-01 00:00:00', '2016-01-02 00:00:00',\n",
       " '2016-01-03 00:00:00']\n",
       "Length: 1380, dtype: datetime64[ns]"
      ]
     },
     "execution_count": 29,
     "metadata": {},
     "output_type": "execute_result"
    }
   ],
   "source": [
    "Data['host_since'].unique()"
   ]
  },
  {
   "cell_type": "code",
   "execution_count": 30,
   "id": "23b873c6-3ce4-49a9-ab7d-1e5a30429f54",
   "metadata": {},
   "outputs": [
    {
     "name": "stdout",
     "output_type": "stream",
     "text": [
      "<class 'pandas.core.frame.DataFrame'>\n",
      "RangeIndex: 3816 entries, 0 to 3815\n",
      "Data columns (total 73 columns):\n",
      " #   Column                            Non-Null Count  Dtype         \n",
      "---  ------                            --------------  -----         \n",
      " 0   id                                3816 non-null   int64         \n",
      " 1   listing_url                       3816 non-null   object        \n",
      " 2   scrape_id                         3816 non-null   int64         \n",
      " 3   last_scraped                      3816 non-null   object        \n",
      " 4   name                              3816 non-null   object        \n",
      " 5   host_id                           3816 non-null   int64         \n",
      " 6   host_name                         3816 non-null   object        \n",
      " 7   host_since                        3816 non-null   datetime64[ns]\n",
      " 8   host_location                     3816 non-null   object        \n",
      " 9   host_response_time                3816 non-null   object        \n",
      " 10  host_response_rate                3295 non-null   float64       \n",
      " 11  host_acceptance_rate              3045 non-null   float64       \n",
      " 12  host_is_superhost                 3816 non-null   bool          \n",
      " 13  host_neighbourhood                3816 non-null   object        \n",
      " 14  host_listings_count               3816 non-null   float64       \n",
      " 15  host_total_listings_count         3816 non-null   float64       \n",
      " 16  host_verifications                3816 non-null   object        \n",
      " 17  host_identity_verified            3816 non-null   bool          \n",
      " 18  street                            3816 non-null   object        \n",
      " 19  neighbourhood                     3816 non-null   object        \n",
      " 20  city                              3816 non-null   object        \n",
      " 21  state                             3816 non-null   object        \n",
      " 22  zipcode                           3816 non-null   object        \n",
      " 23  market                            3816 non-null   object        \n",
      " 24  smart_location                    3816 non-null   object        \n",
      " 25  country_code                      3816 non-null   object        \n",
      " 26  country                           3816 non-null   object        \n",
      " 27  latitude                          3816 non-null   float64       \n",
      " 28  longitude                         3816 non-null   float64       \n",
      " 29  is_location_exact                 3816 non-null   bool          \n",
      " 30  property_type                     3816 non-null   object        \n",
      " 31  room_type                         3816 non-null   object        \n",
      " 32  accommodates                      3816 non-null   int64         \n",
      " 33  bathrooms                         3816 non-null   float64       \n",
      " 34  bedrooms                          3816 non-null   float64       \n",
      " 35  beds                              3816 non-null   float64       \n",
      " 36  bed_type                          3816 non-null   object        \n",
      " 37  amenities                         3816 non-null   object        \n",
      " 38  square_feet                       97 non-null     float64       \n",
      " 39  price                             3816 non-null   object        \n",
      " 40  weekly_price                      3816 non-null   object        \n",
      " 41  monthly_price                     3816 non-null   object        \n",
      " 42  security_deposit                  3816 non-null   object        \n",
      " 43  cleaning_fee                      3816 non-null   object        \n",
      " 44  guests_included                   3816 non-null   int64         \n",
      " 45  extra_people                      3816 non-null   object        \n",
      " 46  minimum_nights                    3816 non-null   int64         \n",
      " 47  maximum_nights                    3816 non-null   int64         \n",
      " 48  calendar_updated                  3816 non-null   object        \n",
      " 49  has_availability                  3816 non-null   bool          \n",
      " 50  availability_30                   3816 non-null   int64         \n",
      " 51  availability_60                   3816 non-null   int64         \n",
      " 52  availability_90                   3816 non-null   int64         \n",
      " 53  availability_365                  3816 non-null   int64         \n",
      " 54  calendar_last_scraped             3816 non-null   object        \n",
      " 55  number_of_reviews                 3816 non-null   int64         \n",
      " 56  first_review                      3191 non-null   datetime64[ns]\n",
      " 57  last_review                       3191 non-null   datetime64[ns]\n",
      " 58  review_scores_rating              3816 non-null   float64       \n",
      " 59  review_scores_accuracy            3816 non-null   float64       \n",
      " 60  review_scores_cleanliness         3816 non-null   float64       \n",
      " 61  review_scores_checkin             3816 non-null   float64       \n",
      " 62  review_scores_communication       3816 non-null   float64       \n",
      " 63  review_scores_location            3816 non-null   float64       \n",
      " 64  review_scores_value               3816 non-null   float64       \n",
      " 65  requires_license                  3816 non-null   bool          \n",
      " 66  jurisdiction_names                3816 non-null   object        \n",
      " 67  instant_bookable                  3816 non-null   bool          \n",
      " 68  cancellation_policy               3816 non-null   object        \n",
      " 69  require_guest_profile_picture     3816 non-null   bool          \n",
      " 70  require_guest_phone_verification  3816 non-null   bool          \n",
      " 71  calculated_host_listings_count    3816 non-null   int64         \n",
      " 72  reviews_per_month                 3191 non-null   float64       \n",
      "dtypes: bool(8), datetime64[ns](3), float64(18), int64(13), object(31)\n",
      "memory usage: 1.9+ MB\n"
     ]
    }
   ],
   "source": [
    "Data.info()"
   ]
  },
  {
   "cell_type": "code",
   "execution_count": 31,
   "id": "c6e0552f-f290-48be-b584-27a8c60badc6",
   "metadata": {},
   "outputs": [
    {
     "data": {
      "text/html": [
       "<div>\n",
       "<style scoped>\n",
       "    .dataframe tbody tr th:only-of-type {\n",
       "        vertical-align: middle;\n",
       "    }\n",
       "\n",
       "    .dataframe tbody tr th {\n",
       "        vertical-align: top;\n",
       "    }\n",
       "\n",
       "    .dataframe thead th {\n",
       "        text-align: right;\n",
       "    }\n",
       "</style>\n",
       "<table border=\"1\" class=\"dataframe\">\n",
       "  <thead>\n",
       "    <tr style=\"text-align: right;\">\n",
       "      <th></th>\n",
       "      <th>listing_id</th>\n",
       "      <th>id</th>\n",
       "      <th>date</th>\n",
       "      <th>reviewer_id</th>\n",
       "      <th>reviewer_name</th>\n",
       "      <th>comments</th>\n",
       "    </tr>\n",
       "  </thead>\n",
       "  <tbody>\n",
       "    <tr>\n",
       "      <th>0</th>\n",
       "      <td>7202016</td>\n",
       "      <td>38917982</td>\n",
       "      <td>2015-07-19</td>\n",
       "      <td>28943674</td>\n",
       "      <td>Bianca</td>\n",
       "      <td>Cute and cozy place. Perfect location to every...</td>\n",
       "    </tr>\n",
       "    <tr>\n",
       "      <th>1</th>\n",
       "      <td>7202016</td>\n",
       "      <td>39087409</td>\n",
       "      <td>2015-07-20</td>\n",
       "      <td>32440555</td>\n",
       "      <td>Frank</td>\n",
       "      <td>Kelly has a great room in a very central locat...</td>\n",
       "    </tr>\n",
       "    <tr>\n",
       "      <th>2</th>\n",
       "      <td>7202016</td>\n",
       "      <td>39820030</td>\n",
       "      <td>2015-07-26</td>\n",
       "      <td>37722850</td>\n",
       "      <td>Ian</td>\n",
       "      <td>Very spacious apartment, and in a great neighb...</td>\n",
       "    </tr>\n",
       "    <tr>\n",
       "      <th>3</th>\n",
       "      <td>7202016</td>\n",
       "      <td>40813543</td>\n",
       "      <td>2015-08-02</td>\n",
       "      <td>33671805</td>\n",
       "      <td>George</td>\n",
       "      <td>Close to Seattle Center and all it has to offe...</td>\n",
       "    </tr>\n",
       "    <tr>\n",
       "      <th>4</th>\n",
       "      <td>7202016</td>\n",
       "      <td>41986501</td>\n",
       "      <td>2015-08-10</td>\n",
       "      <td>34959538</td>\n",
       "      <td>Ming</td>\n",
       "      <td>Kelly was a great host and very accommodating ...</td>\n",
       "    </tr>\n",
       "  </tbody>\n",
       "</table>\n",
       "</div>"
      ],
      "text/plain": [
       "   listing_id        id        date  reviewer_id reviewer_name  \\\n",
       "0     7202016  38917982  2015-07-19     28943674        Bianca   \n",
       "1     7202016  39087409  2015-07-20     32440555         Frank   \n",
       "2     7202016  39820030  2015-07-26     37722850           Ian   \n",
       "3     7202016  40813543  2015-08-02     33671805        George   \n",
       "4     7202016  41986501  2015-08-10     34959538          Ming   \n",
       "\n",
       "                                            comments  \n",
       "0  Cute and cozy place. Perfect location to every...  \n",
       "1  Kelly has a great room in a very central locat...  \n",
       "2  Very spacious apartment, and in a great neighb...  \n",
       "3  Close to Seattle Center and all it has to offe...  \n",
       "4  Kelly was a great host and very accommodating ...  "
      ]
     },
     "execution_count": 31,
     "metadata": {},
     "output_type": "execute_result"
    }
   ],
   "source": [
    "# reading dataset2\n",
    "df2 = pd.read_csv(\"C:/data science/Flats/reviews.csv\")\n",
    "df2.head()"
   ]
  },
  {
   "cell_type": "code",
   "execution_count": 32,
   "id": "5f9f5f01-d4f8-4583-b25f-7b2eeb3ced4d",
   "metadata": {},
   "outputs": [
    {
     "data": {
      "text/plain": [
       "(84849, 6)"
      ]
     },
     "execution_count": 32,
     "metadata": {},
     "output_type": "execute_result"
    }
   ],
   "source": [
    "# number of rows and columns for dataset2\n",
    "df2.shape"
   ]
  },
  {
   "cell_type": "code",
   "execution_count": 34,
   "id": "0552e040-5fb8-463d-a90a-5d774fa31fdf",
   "metadata": {},
   "outputs": [],
   "source": [
    "# droping column\n",
    "data2 = df2.drop(['comments'], axis=1)"
   ]
  },
  {
   "cell_type": "code",
   "execution_count": 35,
   "id": "819c729e-54ca-429f-a056-4d3763aebd5c",
   "metadata": {},
   "outputs": [
    {
     "data": {
      "text/plain": [
       "Index(['listing_id', 'id', 'date', 'reviewer_id', 'reviewer_name'], dtype='object')"
      ]
     },
     "execution_count": 35,
     "metadata": {},
     "output_type": "execute_result"
    }
   ],
   "source": [
    "# column name of dataset2\n",
    "data2.columns"
   ]
  },
  {
   "cell_type": "code",
   "execution_count": 36,
   "id": "d2ee0d15-52af-414f-bbf2-feff1083808b",
   "metadata": {},
   "outputs": [],
   "source": [
    "# changing data type to datetime\n",
    "data2['date'] = pd.to_datetime(data2['date'])"
   ]
  },
  {
   "cell_type": "code",
   "execution_count": 37,
   "id": "4e279891-9211-4e76-a303-22bd2a1f3ac7",
   "metadata": {},
   "outputs": [
    {
     "name": "stdout",
     "output_type": "stream",
     "text": [
      "<class 'pandas.core.frame.DataFrame'>\n",
      "RangeIndex: 84849 entries, 0 to 84848\n",
      "Data columns (total 5 columns):\n",
      " #   Column         Non-Null Count  Dtype         \n",
      "---  ------         --------------  -----         \n",
      " 0   listing_id     84849 non-null  int64         \n",
      " 1   id             84849 non-null  int64         \n",
      " 2   date           84849 non-null  datetime64[ns]\n",
      " 3   reviewer_id    84849 non-null  int64         \n",
      " 4   reviewer_name  84849 non-null  object        \n",
      "dtypes: datetime64[ns](1), int64(3), object(1)\n",
      "memory usage: 3.2+ MB\n"
     ]
    }
   ],
   "source": [
    "# data type of dataset2\n",
    "data2.info()"
   ]
  },
  {
   "cell_type": "code",
   "execution_count": 38,
   "id": "86df4062-c358-42d1-846f-f047d7d3f505",
   "metadata": {},
   "outputs": [
    {
     "data": {
      "text/html": [
       "<div>\n",
       "<style scoped>\n",
       "    .dataframe tbody tr th:only-of-type {\n",
       "        vertical-align: middle;\n",
       "    }\n",
       "\n",
       "    .dataframe tbody tr th {\n",
       "        vertical-align: top;\n",
       "    }\n",
       "\n",
       "    .dataframe thead th {\n",
       "        text-align: right;\n",
       "    }\n",
       "</style>\n",
       "<table border=\"1\" class=\"dataframe\">\n",
       "  <thead>\n",
       "    <tr style=\"text-align: right;\">\n",
       "      <th></th>\n",
       "      <th>listing_id</th>\n",
       "      <th>date</th>\n",
       "      <th>available</th>\n",
       "      <th>price</th>\n",
       "    </tr>\n",
       "  </thead>\n",
       "  <tbody>\n",
       "    <tr>\n",
       "      <th>0</th>\n",
       "      <td>241032</td>\n",
       "      <td>2016-01-04</td>\n",
       "      <td>t</td>\n",
       "      <td>$85.00</td>\n",
       "    </tr>\n",
       "    <tr>\n",
       "      <th>1</th>\n",
       "      <td>241032</td>\n",
       "      <td>2016-01-05</td>\n",
       "      <td>t</td>\n",
       "      <td>$85.00</td>\n",
       "    </tr>\n",
       "    <tr>\n",
       "      <th>2</th>\n",
       "      <td>241032</td>\n",
       "      <td>2016-01-06</td>\n",
       "      <td>f</td>\n",
       "      <td>NaN</td>\n",
       "    </tr>\n",
       "    <tr>\n",
       "      <th>3</th>\n",
       "      <td>241032</td>\n",
       "      <td>2016-01-07</td>\n",
       "      <td>f</td>\n",
       "      <td>NaN</td>\n",
       "    </tr>\n",
       "    <tr>\n",
       "      <th>4</th>\n",
       "      <td>241032</td>\n",
       "      <td>2016-01-08</td>\n",
       "      <td>f</td>\n",
       "      <td>NaN</td>\n",
       "    </tr>\n",
       "  </tbody>\n",
       "</table>\n",
       "</div>"
      ],
      "text/plain": [
       "   listing_id        date available   price\n",
       "0      241032  2016-01-04         t  $85.00\n",
       "1      241032  2016-01-05         t  $85.00\n",
       "2      241032  2016-01-06         f     NaN\n",
       "3      241032  2016-01-07         f     NaN\n",
       "4      241032  2016-01-08         f     NaN"
      ]
     },
     "execution_count": 38,
     "metadata": {},
     "output_type": "execute_result"
    }
   ],
   "source": [
    "# reading dataset3\n",
    "df3 = pd.read_csv(\"C:/data science/Flats/calendar.csv\")\n",
    "df3.head()"
   ]
  },
  {
   "cell_type": "code",
   "execution_count": 39,
   "id": "b340ef71-9dad-47ac-8ea4-ba6055cbe61a",
   "metadata": {},
   "outputs": [
    {
     "data": {
      "text/plain": [
       "(1393570, 4)"
      ]
     },
     "execution_count": 39,
     "metadata": {},
     "output_type": "execute_result"
    }
   ],
   "source": [
    "df3.shape"
   ]
  },
  {
   "cell_type": "code",
   "execution_count": 40,
   "id": "2a2dc32c-3039-4d94-9455-521ecdada071",
   "metadata": {},
   "outputs": [],
   "source": [
    "# changing data type to datetime\n",
    "df3['date'] = pd.to_datetime(df3['date'])"
   ]
  },
  {
   "cell_type": "code",
   "execution_count": 41,
   "id": "9d6caf7a-4257-4021-a8c1-0358f86304ae",
   "metadata": {},
   "outputs": [],
   "source": [
    "# cahnging data type to boolean \n",
    "df3['available'] = df3['available'].astype(bool)"
   ]
  },
  {
   "cell_type": "code",
   "execution_count": 42,
   "id": "fb37ad2a-073f-48d0-9c5e-ad4566154772",
   "metadata": {},
   "outputs": [],
   "source": [
    "df3['price'] = df3['price'].str.lstrip('$') # Remove $"
   ]
  },
  {
   "cell_type": "code",
   "execution_count": 43,
   "id": "1fc9fc3f-828e-4124-bcfe-55f6356440fa",
   "metadata": {},
   "outputs": [],
   "source": [
    "df3['price'] = df3['price'].str.replace(',', '')   # Remove commas"
   ]
  },
  {
   "cell_type": "code",
   "execution_count": 44,
   "id": "5a888efd-28d9-4fdd-b029-df25b317ec10",
   "metadata": {},
   "outputs": [
    {
     "data": {
      "text/html": [
       "<div>\n",
       "<style scoped>\n",
       "    .dataframe tbody tr th:only-of-type {\n",
       "        vertical-align: middle;\n",
       "    }\n",
       "\n",
       "    .dataframe tbody tr th {\n",
       "        vertical-align: top;\n",
       "    }\n",
       "\n",
       "    .dataframe thead th {\n",
       "        text-align: right;\n",
       "    }\n",
       "</style>\n",
       "<table border=\"1\" class=\"dataframe\">\n",
       "  <thead>\n",
       "    <tr style=\"text-align: right;\">\n",
       "      <th></th>\n",
       "      <th>listing_id</th>\n",
       "      <th>date</th>\n",
       "      <th>available</th>\n",
       "      <th>price</th>\n",
       "    </tr>\n",
       "  </thead>\n",
       "  <tbody>\n",
       "    <tr>\n",
       "      <th>0</th>\n",
       "      <td>241032</td>\n",
       "      <td>2016-01-04</td>\n",
       "      <td>True</td>\n",
       "      <td>85.00</td>\n",
       "    </tr>\n",
       "    <tr>\n",
       "      <th>1</th>\n",
       "      <td>241032</td>\n",
       "      <td>2016-01-05</td>\n",
       "      <td>True</td>\n",
       "      <td>85.00</td>\n",
       "    </tr>\n",
       "    <tr>\n",
       "      <th>2</th>\n",
       "      <td>241032</td>\n",
       "      <td>2016-01-06</td>\n",
       "      <td>True</td>\n",
       "      <td>NaN</td>\n",
       "    </tr>\n",
       "    <tr>\n",
       "      <th>3</th>\n",
       "      <td>241032</td>\n",
       "      <td>2016-01-07</td>\n",
       "      <td>True</td>\n",
       "      <td>NaN</td>\n",
       "    </tr>\n",
       "    <tr>\n",
       "      <th>4</th>\n",
       "      <td>241032</td>\n",
       "      <td>2016-01-08</td>\n",
       "      <td>True</td>\n",
       "      <td>NaN</td>\n",
       "    </tr>\n",
       "  </tbody>\n",
       "</table>\n",
       "</div>"
      ],
      "text/plain": [
       "   listing_id       date  available  price\n",
       "0      241032 2016-01-04       True  85.00\n",
       "1      241032 2016-01-05       True  85.00\n",
       "2      241032 2016-01-06       True    NaN\n",
       "3      241032 2016-01-07       True    NaN\n",
       "4      241032 2016-01-08       True    NaN"
      ]
     },
     "execution_count": 44,
     "metadata": {},
     "output_type": "execute_result"
    }
   ],
   "source": [
    "df3.head()"
   ]
  },
  {
   "cell_type": "code",
   "execution_count": 45,
   "id": "8a9ba573-f126-4f7a-a07d-bca4d1929c7a",
   "metadata": {},
   "outputs": [],
   "source": [
    "df3['price'] = pd.to_numeric(df3['price'])    # Convert to numeric"
   ]
  },
  {
   "cell_type": "code",
   "execution_count": 46,
   "id": "d257d5ea-b2e2-48ae-a54c-f9a38ec12f28",
   "metadata": {},
   "outputs": [
    {
     "name": "stdout",
     "output_type": "stream",
     "text": [
      "<class 'pandas.core.frame.DataFrame'>\n",
      "RangeIndex: 1393570 entries, 0 to 1393569\n",
      "Data columns (total 4 columns):\n",
      " #   Column      Non-Null Count    Dtype         \n",
      "---  ------      --------------    -----         \n",
      " 0   listing_id  1393570 non-null  int64         \n",
      " 1   date        1393570 non-null  datetime64[ns]\n",
      " 2   available   1393570 non-null  bool          \n",
      " 3   price       934542 non-null   float64       \n",
      "dtypes: bool(1), datetime64[ns](1), float64(1), int64(1)\n",
      "memory usage: 33.2 MB\n"
     ]
    }
   ],
   "source": [
    "df3.info()"
   ]
  },
  {
   "cell_type": "code",
   "execution_count": 47,
   "id": "6b121d50-85c9-48f6-bb48-c393b9595ea8",
   "metadata": {},
   "outputs": [],
   "source": [
    "df3['price'] = df3['price'].fillna(df3['price'].mean())"
   ]
  },
  {
   "cell_type": "code",
   "execution_count": 48,
   "id": "b7ce6b8a-9fb2-41ba-bf25-f59625e0e98e",
   "metadata": {},
   "outputs": [
    {
     "name": "stdout",
     "output_type": "stream",
     "text": [
      "<class 'pandas.core.frame.DataFrame'>\n",
      "RangeIndex: 1393570 entries, 0 to 1393569\n",
      "Data columns (total 4 columns):\n",
      " #   Column      Non-Null Count    Dtype         \n",
      "---  ------      --------------    -----         \n",
      " 0   listing_id  1393570 non-null  int64         \n",
      " 1   date        1393570 non-null  datetime64[ns]\n",
      " 2   available   1393570 non-null  bool          \n",
      " 3   price       1393570 non-null  float64       \n",
      "dtypes: bool(1), datetime64[ns](1), float64(1), int64(1)\n",
      "memory usage: 33.2 MB\n"
     ]
    }
   ],
   "source": [
    "# data types of dataset3\n",
    "df3.info()"
   ]
  },
  {
   "cell_type": "code",
   "execution_count": 49,
   "id": "74fc3fef-a5ec-4aa4-bff1-290ec15434c5",
   "metadata": {},
   "outputs": [
    {
     "data": {
      "text/plain": [
       "Index(['listing_id', 'date', 'available', 'price'], dtype='object')"
      ]
     },
     "execution_count": 49,
     "metadata": {},
     "output_type": "execute_result"
    }
   ],
   "source": [
    "df3.columns"
   ]
  },
  {
   "cell_type": "code",
   "execution_count": 50,
   "id": "e399948e-813b-48d9-83dd-23a5b5fd5bd9",
   "metadata": {},
   "outputs": [
    {
     "name": "stdout",
     "output_type": "stream",
     "text": [
      "Outer Join:\n",
      "           listing_id  id date_x  reviewer_id reviewer_name     date_y  \\\n",
      "0               3335 NaN    NaT          NaN           NaN 2016-01-04   \n",
      "1               3335 NaN    NaT          NaN           NaN 2016-01-05   \n",
      "2               3335 NaN    NaT          NaN           NaN 2016-01-06   \n",
      "3               3335 NaN    NaT          NaN           NaN 2016-01-07   \n",
      "4               3335 NaN    NaT          NaN           NaN 2016-01-08   \n",
      "...              ...  ..    ...          ...           ...        ...   \n",
      "31198735    10340165 NaN    NaT          NaN           NaN 2016-12-29   \n",
      "31198736    10340165 NaN    NaT          NaN           NaN 2016-12-30   \n",
      "31198737    10340165 NaN    NaT          NaN           NaN 2016-12-31   \n",
      "31198738    10340165 NaN    NaT          NaN           NaN 2017-01-01   \n",
      "31198739    10340165 NaN    NaT          NaN           NaN 2017-01-02   \n",
      "\n",
      "          available       price  \n",
      "0              True  137.944859  \n",
      "1              True  137.944859  \n",
      "2              True  137.944859  \n",
      "3              True  137.944859  \n",
      "4              True  137.944859  \n",
      "...             ...         ...  \n",
      "31198735       True   43.000000  \n",
      "31198736       True   43.000000  \n",
      "31198737       True   43.000000  \n",
      "31198738       True   43.000000  \n",
      "31198739       True   43.000000  \n",
      "\n",
      "[31198740 rows x 8 columns]\n"
     ]
    }
   ],
   "source": [
    "# performing outer join \n",
    "outer_join = pd.merge(data2, df3, on = 'listing_id', how = 'outer')\n",
    "print(\"Outer Join:\\n\", outer_join)"
   ]
  },
  {
   "cell_type": "code",
   "execution_count": 51,
   "id": "d74ae770-00a1-4ba5-83ce-b502107d099f",
   "metadata": {},
   "outputs": [
    {
     "name": "stdout",
     "output_type": "stream",
     "text": [
      "Inner Join:\n",
      "           listing_id        id     date_x  reviewer_id reviewer_name  \\\n",
      "0            7202016  38917982 2015-07-19     28943674        Bianca   \n",
      "1            7202016  38917982 2015-07-19     28943674        Bianca   \n",
      "2            7202016  38917982 2015-07-19     28943674        Bianca   \n",
      "3            7202016  38917982 2015-07-19     28943674        Bianca   \n",
      "4            7202016  38917982 2015-07-19     28943674        Bianca   \n",
      "...              ...       ...        ...          ...           ...   \n",
      "30969880     9727246  56429621 2015-12-13     30860360     Stephanie   \n",
      "30969881     9727246  56429621 2015-12-13     30860360     Stephanie   \n",
      "30969882     9727246  56429621 2015-12-13     30860360     Stephanie   \n",
      "30969883     9727246  56429621 2015-12-13     30860360     Stephanie   \n",
      "30969884     9727246  56429621 2015-12-13     30860360     Stephanie   \n",
      "\n",
      "             date_y  available       price  \n",
      "0        2016-01-04       True   65.000000  \n",
      "1        2016-01-05       True   65.000000  \n",
      "2        2016-01-06       True   65.000000  \n",
      "3        2016-01-07       True  137.944859  \n",
      "4        2016-01-08       True  137.944859  \n",
      "...             ...        ...         ...  \n",
      "30969880 2016-12-29       True   92.000000  \n",
      "30969881 2016-12-30       True   92.000000  \n",
      "30969882 2016-12-31       True   92.000000  \n",
      "30969883 2017-01-01       True   92.000000  \n",
      "30969884 2017-01-02       True  137.944859  \n",
      "\n",
      "[30969885 rows x 8 columns]\n"
     ]
    }
   ],
   "source": [
    "# performing inner join \n",
    "inner_join = pd.merge(data2, df3, on = 'listing_id', how = 'inner')\n",
    "print(\"Inner Join:\\n\", inner_join)"
   ]
  },
  {
   "cell_type": "code",
   "execution_count": 52,
   "id": "71e2fa3c-4929-4a95-89e1-9f27eab4a2eb",
   "metadata": {},
   "outputs": [
    {
     "name": "stdout",
     "output_type": "stream",
     "text": [
      "          listing_id        id     date_x  reviewer_id reviewer_name  \\\n",
      "0            7202016  38917982 2015-07-19     28943674        Bianca   \n",
      "1            7202016  38917982 2015-07-19     28943674        Bianca   \n",
      "2            7202016  38917982 2015-07-19     28943674        Bianca   \n",
      "3            7202016  38917982 2015-07-19     28943674        Bianca   \n",
      "4            7202016  38917982 2015-07-19     28943674        Bianca   \n",
      "...              ...       ...        ...          ...           ...   \n",
      "30969880     9727246  56429621 2015-12-13     30860360     Stephanie   \n",
      "30969881     9727246  56429621 2015-12-13     30860360     Stephanie   \n",
      "30969882     9727246  56429621 2015-12-13     30860360     Stephanie   \n",
      "30969883     9727246  56429621 2015-12-13     30860360     Stephanie   \n",
      "30969884     9727246  56429621 2015-12-13     30860360     Stephanie   \n",
      "\n",
      "             date_y  available       price  \n",
      "0        2016-01-04       True   65.000000  \n",
      "1        2016-01-05       True   65.000000  \n",
      "2        2016-01-06       True   65.000000  \n",
      "3        2016-01-07       True  137.944859  \n",
      "4        2016-01-08       True  137.944859  \n",
      "...             ...        ...         ...  \n",
      "30969880 2016-12-29       True   92.000000  \n",
      "30969881 2016-12-30       True   92.000000  \n",
      "30969882 2016-12-31       True   92.000000  \n",
      "30969883 2017-01-01       True   92.000000  \n",
      "30969884 2017-01-02       True  137.944859  \n",
      "\n",
      "[30969885 rows x 8 columns]\n"
     ]
    }
   ],
   "source": [
    "# performin left join \n",
    "left_join = pd.merge(data2, df3, on = 'listing_id', how = 'left')\n",
    "print(left_join)"
   ]
  },
  {
   "cell_type": "code",
   "execution_count": 53,
   "id": "af70611a-81a2-4b3c-a957-e259b6c31a48",
   "metadata": {},
   "outputs": [
    {
     "name": "stdout",
     "output_type": "stream",
     "text": [
      "          listing_id reviewer_name       price\n",
      "0            7202016        Bianca   65.000000\n",
      "1            7202016        Bianca   65.000000\n",
      "2            7202016        Bianca   65.000000\n",
      "3            7202016        Bianca  137.944859\n",
      "4            7202016        Bianca  137.944859\n",
      "...              ...           ...         ...\n",
      "30969880     9727246     Stephanie   92.000000\n",
      "30969881     9727246     Stephanie   92.000000\n",
      "30969882     9727246     Stephanie   92.000000\n",
      "30969883     9727246     Stephanie   92.000000\n",
      "30969884     9727246     Stephanie  137.944859\n",
      "\n",
      "[30969885 rows x 3 columns]\n"
     ]
    }
   ],
   "source": [
    "# performing left join with selected columns \n",
    "left_join = pd.merge(data2, df3, on = 'listing_id', how = 'left')\n",
    "\n",
    "selected_columns = left_join[['listing_id', 'reviewer_name', 'price']]\n",
    "print(selected_columns)"
   ]
  },
  {
   "cell_type": "code",
   "execution_count": 54,
   "id": "d903b3e6-1361-431d-9490-8544064f24bf",
   "metadata": {},
   "outputs": [
    {
     "name": "stdout",
     "output_type": "stream",
     "text": [
      "          listing_id        id     date_x  reviewer_id reviewer_name  \\\n",
      "0             241032  682061.0 2011-11-01     479824.0           Bro   \n",
      "1             241032  691712.0 2011-11-04     357699.0         Megan   \n",
      "2             241032  702999.0 2011-11-08    1285567.0       Marylee   \n",
      "3             241032  717262.0 2011-11-14     647857.0        Graham   \n",
      "4             241032  730226.0 2011-11-19    1389821.0        Franka   \n",
      "...              ...       ...        ...          ...           ...   \n",
      "31198735    10208623       NaN        NaT          NaN           NaN   \n",
      "31198736    10208623       NaN        NaT          NaN           NaN   \n",
      "31198737    10208623       NaN        NaT          NaN           NaN   \n",
      "31198738    10208623       NaN        NaT          NaN           NaN   \n",
      "31198739    10208623       NaN        NaT          NaN           NaN   \n",
      "\n",
      "             date_y  available       price  \n",
      "0        2016-01-04       True   85.000000  \n",
      "1        2016-01-04       True   85.000000  \n",
      "2        2016-01-04       True   85.000000  \n",
      "3        2016-01-04       True   85.000000  \n",
      "4        2016-01-04       True   85.000000  \n",
      "...             ...        ...         ...  \n",
      "31198735 2016-12-29       True  137.944859  \n",
      "31198736 2016-12-30       True  137.944859  \n",
      "31198737 2016-12-31       True  137.944859  \n",
      "31198738 2017-01-01       True  137.944859  \n",
      "31198739 2017-01-02       True  137.944859  \n",
      "\n",
      "[31198740 rows x 8 columns]\n"
     ]
    }
   ],
   "source": [
    "# performing right join \n",
    "right_join = pd.merge(data2, df3, on = 'listing_id', how = 'right')\n",
    "print(right_join)"
   ]
  },
  {
   "cell_type": "code",
   "execution_count": 55,
   "id": "66abf38d-5027-43f5-ab69-57f415f978b8",
   "metadata": {},
   "outputs": [
    {
     "name": "stdout",
     "output_type": "stream",
     "text": [
      "          listing_id reviewer_name       price\n",
      "0             241032           Bro   85.000000\n",
      "1             241032         Megan   85.000000\n",
      "2             241032       Marylee   85.000000\n",
      "3             241032        Graham   85.000000\n",
      "4             241032        Franka   85.000000\n",
      "...              ...           ...         ...\n",
      "31198735    10208623           NaN  137.944859\n",
      "31198736    10208623           NaN  137.944859\n",
      "31198737    10208623           NaN  137.944859\n",
      "31198738    10208623           NaN  137.944859\n",
      "31198739    10208623           NaN  137.944859\n",
      "\n",
      "[31198740 rows x 3 columns]\n"
     ]
    }
   ],
   "source": [
    "# performing right join with selected columns\n",
    "right_join = pd.merge(data2, df3, on = 'listing_id', how = 'right')\n",
    "\n",
    "selected_columns = right_join[['listing_id', 'reviewer_name', 'price']]\n",
    "print(selected_columns)"
   ]
  },
  {
   "cell_type": "markdown",
   "id": "ed4d32ae-f2e6-4c71-8dd8-8424cbefb7bf",
   "metadata": {},
   "source": [
    "# Name and City of rooms having Review"
   ]
  },
  {
   "cell_type": "code",
   "execution_count": 56,
   "id": "0727e887-3a84-415a-9176-ed94b8387993",
   "metadata": {},
   "outputs": [
    {
     "name": "stdout",
     "output_type": "stream",
     "text": [
      "      city                                 name\n",
      "0  Seattle                   condo Seattle, Wa.\n",
      "1  Seattle                      Ballard Cottage\n",
      "2  Seattle  Fantastic View! Close to Light Rail\n",
      "3  Seattle    The Reading Room at The Farmhouse\n",
      "4  Seattle      15min-Downtown! Bus-steps away!\n",
      "5  Seattle    Room with Downtown Seattle Views!\n",
      "6  Seattle   Modern Studio, Lovely Neighborhood\n",
      "7  Seattle       Blue Nautical Room w/Breakfast\n",
      "8  Seattle      Luxury Studio Convention Center\n"
     ]
    }
   ],
   "source": [
    "J1 = pd.merge(Data, data2, on = 'id', how = 'inner')\n",
    "\n",
    "selected_columns = J1[['city', 'name']].drop_duplicates()\n",
    "distinct_name = selected_columns.groupby('city')['name'].unique().reset_index()\n",
    "\n",
    "print(selected_columns)"
   ]
  },
  {
   "cell_type": "markdown",
   "id": "62bd48b0-d4da-4829-aa2f-0c38cf37c50e",
   "metadata": {},
   "source": [
    "# How does price vary with availability?"
   ]
  },
  {
   "cell_type": "code",
   "execution_count": 57,
   "id": "55c2dc3f-74dd-436a-a28e-0dff3d9bf20b",
   "metadata": {},
   "outputs": [
    {
     "name": "stdout",
     "output_type": "stream",
     "text": [
      "      reviews_per_month  price\n",
      "0                  0.29  130.0\n",
      "1                  0.29  130.0\n",
      "2                  0.29  130.0\n",
      "3                  0.29  130.0\n",
      "4                  0.29  140.0\n",
      "...                 ...    ...\n",
      "3280               0.63  195.0\n",
      "3281               0.63  195.0\n",
      "3282               0.63  195.0\n",
      "3283               0.63  195.0\n",
      "3284               0.63  195.0\n",
      "\n",
      "[3285 rows x 2 columns]\n"
     ]
    }
   ],
   "source": [
    "M1 = pd.merge(data, df2, on='id', how='inner')\n",
    "selected_columns = M1[['listing_id', 'reviews_per_month']]\n",
    "\n",
    "M2 = pd.merge(selected_columns, df3, on='listing_id', how='inner')\n",
    "output_columns = M2[['reviews_per_month', 'price']]\n",
    "print(output_columns)"
   ]
  },
  {
   "cell_type": "code",
   "execution_count": 58,
   "id": "caeec028-6195-4076-bd52-e7979af74957",
   "metadata": {},
   "outputs": [
    {
     "data": {
      "image/png": "[encoded data removed]",
      "text/plain": [
       "<Figure size 640x480 with 1 Axes>"
      ]
     },
     "metadata": {},
     "output_type": "display_data"
    }
   ],
   "source": [
    "import numpy as np\n",
    "import matplotlib.pyplot as plt\n",
    "import seaborn as sns\n",
    "\n",
    "color = np.random.randint(10,100,3285)\n",
    "plt.scatter(M2['reviews_per_month'], M2['price'], c=color, cmap='hot')\n",
    "plt.grid(axis='x', alpha=0.5)\n",
    "plt.xlabel('Rating')\n",
    "plt.ylabel('Price')\n",
    "plt.show()"
   ]
  },
  {
   "cell_type": "markdown",
   "id": "94d15ddd-e16a-4c9a-9e6c-5d9f074f0e58",
   "metadata": {},
   "source": [
    "# Which listings receive the most reviews, and what are their price trends over time?"
   ]
  },
  {
   "cell_type": "code",
   "execution_count": 59,
   "id": "41fafc63-a8b2-48f7-b0f3-074d2e77ff70",
   "metadata": {},
   "outputs": [
    {
     "name": "stdout",
     "output_type": "stream",
     "text": [
      "Empty DataFrame\n",
      "Columns: [listing_id, date, available, price]\n",
      "Index: []\n"
     ]
    }
   ],
   "source": [
    "Max_review = max(Data['reviews_per_month'])\n",
    "# print(Max_review)\n",
    "\n",
    "M3 = pd.merge(Data, data2, on='id', how='inner')\n",
    "selected_columns = M3[['listing_id', 'reviews_per_month']]\n",
    "\n",
    "max_review_row = selected_columns[selected_columns['reviews_per_month'] == Max_review]\n",
    "\n",
    "M4 = pd.merge(max_review_row[['listing_id']], df3, on='listing_id', how='inner')\n",
    "print(M4)"
   ]
  },
  {
   "cell_type": "markdown",
   "id": "90460c3d-c927-4f4e-8905-067eff26ac4a",
   "metadata": {},
   "source": [
    "# What is the availability of listings with high or low ratings?"
   ]
  },
  {
   "cell_type": "code",
   "execution_count": 56,
   "id": "36fd10c6-9625-44f9-b482-5bc7b5e227ff",
   "metadata": {},
   "outputs": [
    {
     "name": "stdout",
     "output_type": "stream",
     "text": [
      "     listing_id  reviews_per_month       price\n",
      "0        619366               4.45  115.000000\n",
      "1        619366               4.45  115.000000\n",
      "2        619366               4.45  115.000000\n",
      "3        619366               4.45  115.000000\n",
      "4        619366               4.45  137.944859\n",
      "..          ...                ...         ...\n",
      "360        5682               0.05   48.000000\n",
      "361        5682               0.05   50.000000\n",
      "362        5682               0.05   50.000000\n",
      "363        5682               0.05   48.000000\n",
      "364        5682               0.05  137.944859\n",
      "\n",
      "[730 rows x 3 columns]\n"
     ]
    }
   ],
   "source": [
    "M5 = pd.merge(Data, data2, on='id', how='inner')\n",
    "selected_columns = M5[['listing_id', 'reviews_per_month']]\n",
    "# print(selected_columns)\n",
    "\n",
    "Max_review = max(selected_columns['reviews_per_month'])\n",
    "# print(Max_review)\n",
    "Min_review = min(selected_columns['reviews_per_month'])\n",
    "# print(Min_review)\n",
    "\n",
    "max_review_row = selected_columns[selected_columns['reviews_per_month'] == Max_review]\n",
    "min_review_row = selected_columns[selected_columns['reviews_per_month'] == Min_review]\n",
    "\n",
    "M6 = pd.merge(max_review_row, df3[['listing_id', 'price']], on='listing_id', how='inner')\n",
    "M7 = pd.merge(min_review_row, df3[['listing_id', 'price']], on='listing_id', how='inner')\n",
    "\n",
    "result = pd.concat([M6,M7])\n",
    "print(result)"
   ]
  },
  {
   "cell_type": "markdown",
   "id": "54929bc7-c411-46ef-98e1-ff98d1d1e588",
   "metadata": {},
   "source": [
    "# Find all listings that have never been reviewed."
   ]
  },
  {
   "cell_type": "code",
   "execution_count": 64,
   "id": "c40e7a48-53eb-4f9b-a25f-3e1704d4df6e",
   "metadata": {},
   "outputs": [
    {
     "name": "stdout",
     "output_type": "stream",
     "text": [
      "             id  listing_id\n",
      "0      38917982     7202016\n",
      "1      39087409     7202016\n",
      "2      39820030     7202016\n",
      "3      40813543     7202016\n",
      "4      41986501     7202016\n",
      "...         ...         ...\n",
      "84844  50436321     3624990\n",
      "84845  51024875     3624990\n",
      "84846  51511988     3624990\n",
      "84847  52814482     3624990\n",
      "84848  56429621     9727246\n",
      "\n",
      "[84849 rows x 2 columns]\n"
     ]
    }
   ],
   "source": [
    "M8 = pd.merge(Data, data2, on='id', how='right')\n",
    "selected_columns = M8[['id', 'listing_id']]\n",
    "print(selected_columns)"
   ]
  },
  {
   "cell_type": "markdown",
   "id": "25b73ad4-0ab9-4e9f-b49d-edd4ed555a5f",
   "metadata": {},
   "source": [
    "# Which listings have the least reviews?"
   ]
  },
  {
   "cell_type": "code",
   "execution_count": 97,
   "id": "34aa0092-5032-40f4-8a3d-831de9778a13",
   "metadata": {},
   "outputs": [
    {
     "name": "stdout",
     "output_type": "stream",
     "text": [
      "listing_id    5682\n",
      "count            1\n",
      "Name: 0, dtype: int64\n"
     ]
    }
   ],
   "source": [
    "M8 = pd.merge(Data, data2, on='id', how='inner')\n",
    "grouped = M8.groupby('listing_id').size().reset_index(name='count')\n",
    "max_listing_id = grouped.loc[grouped['count'].idxmin()]\n",
    "print(max_listing_id)"
   ]
  }
 ],
 "metadata": {
  "kernelspec": {
   "display_name": "Python 3 (ipykernel)",
   "language": "python",
   "name": "python3"
  },
  "language_info": {
   "codemirror_mode": {
    "name": "ipython",
    "version": 3
   },
   "file_extension": ".py",
   "mimetype": "text/x-python",
   "name": "python",
   "nbconvert_exporter": "python",
   "pygments_lexer": "ipython3",
   "version": "3.11.4"
  }
 },
 "nbformat": 4,
 "nbformat_minor": 5
}
